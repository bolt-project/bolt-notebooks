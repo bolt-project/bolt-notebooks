{
 "cells": [
  {
   "cell_type": "markdown",
   "metadata": {},
   "source": [
    "<div class=\"clearfix\" style=\"padding: 0px; padding-left: 0px;\">\n",
    "<a href=\"http://bolt-project.org\"><img src=\"http://bolt-project.org/_static/header-logo-small.svg\" width=\"300px\"  style=\"display: inline-block; margin-left: 0px;\"></a>\n",
    "</div>\n",
    "\n",
    "<p class='header-1'>Welcome to <span style='font-weight:800'>Bolt</span></p>\n",
    "\n",
    "<p class='info-text'>Bolt is an Python project designed to faciliate working with ndarrays for small, medium, and very large data sets. It exposes array operations through either local or distributed implementations, and makes it easy to switch between them. Its distributed implementation currently targets Spark, a powerful cluster computing framework. These notebooks are interactive tutorials running inside Docker containers that show how Bolt works.</p>\n",
    "\n",
    "<p class='info-text'>For more information on Bolt, visit the <a class='call-link bolt' href='http://bolt-project.org'>project</a> page or come <a class='call-link bolt' href='http://gitter.im/bolt-project/bolt'>chat</a> with us.</p>\n",
    "\n",
    "<p class='header-2'>Tutorials (basic)</p>\n",
    "\n",
    "<a class='call-link bolt' href='tutorials/basic-usage.ipynb'>Basic usage</a>\n",
    "\n",
    "<a class='call-link bolt' href='tutorials/axes.ipynb'>Axes</a>\n",
    "\n",
    "<p class='header-2'>Tutorials (intermediate)</p>\n",
    "\n",
    "<a class='call-link bolt' href='tutorials/chunking.ipynb'>Chunking</a>\n",
    "\n",
    "<a class='call-link bolt' href='tutorials/stacking.ipynb'>Stacking</a>\n",
    "\n",
    "<br>\n",
    "\n",
    "<hr>\n",
    "\n",
    "<p class='info-text' style='text-align: right'>Return to <a class='call-link' href='../welcome.ipynb'>welcome</a></p>"
   ]
  }
 ],
 "metadata": {
  "kernelspec": {
   "display_name": "Python 2",
   "language": "python",
   "name": "python2"
  },
  "language_info": {
   "codemirror_mode": {
    "name": "ipython",
    "version": 2
   },
   "file_extension": ".py",
   "mimetype": "text/x-python",
   "name": "python",
   "nbconvert_exporter": "python",
   "pygments_lexer": "ipython2",
   "version": "2.7.9"
  }
 },
 "nbformat": 4,
 "nbformat_minor": 0
}
